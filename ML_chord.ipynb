{
 "cells": [
  {
   "cell_type": "markdown",
   "metadata": {},
   "source": [
    "# ML Project : chord embedding\n",
    "\n",
    "A goal of this project is to be able to project the different chords into a space, and therefore conclude on the similarity between chords, between different composers,.."
   ]
  },
  {
   "cell_type": "code",
   "execution_count": 2,
   "metadata": {},
   "outputs": [],
   "source": [
    "#import packages :\n",
    "import numpy as np\n",
    "import pandas as pd\n",
    "import re\n",
    "import matplotlib.pyplot as plt\n",
    "import seaborn as sns"
   ]
  },
  {
   "cell_type": "markdown",
   "metadata": {},
   "source": [
    "# Load the data"
   ]
  },
  {
   "cell_type": "code",
   "execution_count": 3,
   "metadata": {},
   "outputs": [],
   "source": [
    "#folder\n",
    "data_folder = 'C:/Users/HP/ML_project_chord/data/'\n",
    "chord_folder = 'C:/Users/HP/ML_project_chord/data/chord/'\n",
    "key_folder = 'C:/Users/HP/ML_project_chord/data/key/'"
   ]
  },
  {
   "cell_type": "code",
   "execution_count": 4,
   "metadata": {},
   "outputs": [
    {
     "data": {
      "text/plain": [
       "(92, 81, 77)"
      ]
     },
     "execution_count": 4,
     "metadata": {},
     "output_type": "execute_result"
    }
   ],
   "source": [
    "#Load the chord vocabulary text files \n",
    "\n",
    "#Files :\n",
    "chord_voc_full_file = data_folder + 'chord_vocab_full.txt'\n",
    "chord_voc_maj_file = data_folder + 'chord_vocab_major.txt'\n",
    "chord_voc_min_file = data_folder + 'chord_vocab_minor.txt'\n",
    "\n",
    "chord_voc_full = pd.read_csv(chord_voc_full_file, sep = ':', header = None)\n",
    "chord_voc_maj = pd.read_csv(chord_voc_maj_file, sep = ':', header = None)\n",
    "chord_voc_min = pd.read_csv(chord_voc_min_file, sep = ':', header = None)\n",
    "\n",
    "chord_voc_full.shape[0], chord_voc_maj.shape[0], chord_voc_min.shape[0] "
   ]
  },
  {
   "cell_type": "code",
   "execution_count": 14,
   "metadata": {},
   "outputs": [
    {
     "data": {
      "text/plain": [
       "(42, 32, 33)"
      ]
     },
     "execution_count": 14,
     "metadata": {},
     "output_type": "execute_result"
    }
   ],
   "source": [
    "#Load the key vocabulary text files \n",
    "\n",
    "#Files :\n",
    "key_voc_full_file = data_folder + 'key_vocab_full.txt'\n",
    "key_voc_maj_file = data_folder + 'key_vocab_major.txt'\n",
    "key_voc_min_file = data_folder + 'key_vocab_minor.txt'\n",
    "\n",
    "key_voc_full = pd.read_csv(key_voc_full_file, sep = ':', header = None)\n",
    "key_voc_maj = pd.read_csv(key_voc_maj_file, sep = ':', header = None)\n",
    "key_voc_min = pd.read_csv(key_voc_min_file, sep = ':', header = None)\n",
    "\n",
    "key_voc_full.shape[0], key_voc_maj.shape[0], key_voc_min.shape[0] "
   ]
  },
  {
   "cell_type": "code",
   "execution_count": 15,
   "metadata": {},
   "outputs": [],
   "source": [
    "# Regular expression needs to be compiled using re.compile(regex, re.VERBOSE)\n",
    "regex = r\"\"\"\n",
    "    ^(\\.?\n",
    "        ((?P<globalkey>[a-gA-G](b*|\\#*))\\.)?\n",
    "        ((?P<localkey>(b*|\\#*)(VII|VI|V|IV|III|II|I|vii|vi|v|iv|iii|ii|i))\\.)?\n",
    "        ((?P<pedal>(b*|\\#*)(VII|VI|V|IV|III|II|I|vii|vi|v|iv|iii|ii|i))\\[)?\n",
    "        (?P<chord>\n",
    "            (?P<numeral>(b*|\\#*)(VII|VI|V|IV|III|II|I|vii|vi|v|iv|iii|ii|i|Ger|It|Fr|@none))\n",
    "            (?P<form>(%|o|\\+|M|\\+M))?\n",
    "            (?P<figbass>(7|65|43|42|2|64|6))?\n",
    "            (\\((?P<changes>((\\+|-|\\^)?(b*|\\#*)\\d)+)\\))?\n",
    "            (/(?P<relativeroot>((b*|\\#*)(VII|VI|V|IV|III|II|I|vii|vi|v|iv|iii|ii|i)/?)*))?\n",
    "        )\n",
    "        (?P<pedalend>\\])?\n",
    "    )?\n",
    "    (?P<phraseend>(\\\\\\\\|\\{|\\}|\\}\\{))?$\n",
    "    \"\"\"\n",
    "reg = re.compile(regex, re.VERBOSE)\n",
    "#Where to use it ?"
   ]
  },
  {
   "cell_type": "markdown",
   "metadata": {},
   "source": [
    "**Import the chord data to create dataframe containing key mode as the first column and chords as other columns**"
   ]
  },
  {
   "cell_type": "code",
   "execution_count": 16,
   "metadata": {},
   "outputs": [],
   "source": [
    "def load_chord_data(file):\n",
    "    '''\n",
    "    Function that returns the csv file as a dataframe : the first column contains the key mode (MAJOR or MINOR)\n",
    "    and the other ones contains each cord\n",
    "    \n",
    "    - Input : file name (example : 'Bach.csv')'''\n",
    "    #We use sep='\\n' to be able to first separate each line, but we'll have just one column\n",
    "    data = pd.read_csv(chord_folder + file, sep='\\n' ,header= None, error_bad_lines = False)\n",
    "    \n",
    "    #We separate each chords for each line\n",
    "    data = data[0].str.split(',', expand=True)\n",
    "    \n",
    "    #Then the first column will not separate the key mode (major/minor) and the first chord because\n",
    "    #they are separated with ';', so we must deal with it\n",
    "    data.insert(1, '0', data[0].str.split(';', expand=True)[1].values) #We add the first chord\n",
    "    data.insert(1, 'key_mode', data[0].str.split(';', expand=True)[0].values) #We add the key_mode\n",
    "    data = data.drop(0, axis = 1) #We drop the first column, which was not separating the key_mode from the first chord\n",
    "    return data\n",
    "    "
   ]
  },
  {
   "cell_type": "code",
   "execution_count": 17,
   "metadata": {},
   "outputs": [
    {
     "data": {
      "text/html": [
       "<div>\n",
       "<style scoped>\n",
       "    .dataframe tbody tr th:only-of-type {\n",
       "        vertical-align: middle;\n",
       "    }\n",
       "\n",
       "    .dataframe tbody tr th {\n",
       "        vertical-align: top;\n",
       "    }\n",
       "\n",
       "    .dataframe thead th {\n",
       "        text-align: right;\n",
       "    }\n",
       "</style>\n",
       "<table border=\"1\" class=\"dataframe\">\n",
       "  <thead>\n",
       "    <tr style=\"text-align: right;\">\n",
       "      <th></th>\n",
       "      <th>key_mode</th>\n",
       "      <th>0</th>\n",
       "      <th>1</th>\n",
       "      <th>2</th>\n",
       "      <th>3</th>\n",
       "      <th>4</th>\n",
       "      <th>5</th>\n",
       "      <th>6</th>\n",
       "      <th>7</th>\n",
       "      <th>8</th>\n",
       "      <th>...</th>\n",
       "      <th>579</th>\n",
       "      <th>580</th>\n",
       "      <th>581</th>\n",
       "      <th>582</th>\n",
       "      <th>583</th>\n",
       "      <th>584</th>\n",
       "      <th>585</th>\n",
       "      <th>586</th>\n",
       "      <th>587</th>\n",
       "      <th>588</th>\n",
       "    </tr>\n",
       "  </thead>\n",
       "  <tbody>\n",
       "    <tr>\n",
       "      <th>0</th>\n",
       "      <td>MAJOR</td>\n",
       "      <td>I:MAJ</td>\n",
       "      <td>V:MAJ</td>\n",
       "      <td>I:MAJ</td>\n",
       "      <td>V:MAJ</td>\n",
       "      <td>I:MAJ</td>\n",
       "      <td>V:MAJ</td>\n",
       "      <td>I:MAJ</td>\n",
       "      <td>V:MAJ</td>\n",
       "      <td>IV:MAJ</td>\n",
       "      <td>...</td>\n",
       "      <td>None</td>\n",
       "      <td>None</td>\n",
       "      <td>None</td>\n",
       "      <td>None</td>\n",
       "      <td>None</td>\n",
       "      <td>None</td>\n",
       "      <td>None</td>\n",
       "      <td>None</td>\n",
       "      <td>None</td>\n",
       "      <td>None</td>\n",
       "    </tr>\n",
       "    <tr>\n",
       "      <th>1</th>\n",
       "      <td>MAJOR</td>\n",
       "      <td>I:MAJ</td>\n",
       "      <td>VII:DIM</td>\n",
       "      <td>V:MAJ</td>\n",
       "      <td>I:MAJ</td>\n",
       "      <td>IV:MAJ</td>\n",
       "      <td>VII:DIM</td>\n",
       "      <td>I:MAJ</td>\n",
       "      <td>IV:MAJ</td>\n",
       "      <td>IV:MIN</td>\n",
       "      <td>...</td>\n",
       "      <td>None</td>\n",
       "      <td>None</td>\n",
       "      <td>None</td>\n",
       "      <td>None</td>\n",
       "      <td>None</td>\n",
       "      <td>None</td>\n",
       "      <td>None</td>\n",
       "      <td>None</td>\n",
       "      <td>None</td>\n",
       "      <td>None</td>\n",
       "    </tr>\n",
       "    <tr>\n",
       "      <th>2</th>\n",
       "      <td>MAJOR</td>\n",
       "      <td>I:MAJ</td>\n",
       "      <td>IV:MAJ</td>\n",
       "      <td>V:MAJ</td>\n",
       "      <td>IV:MAJ</td>\n",
       "      <td>V:MAJ</td>\n",
       "      <td>I:MAJ</td>\n",
       "      <td>III:MIN</td>\n",
       "      <td>VI:MIN</td>\n",
       "      <td>V:MAJ</td>\n",
       "      <td>...</td>\n",
       "      <td>None</td>\n",
       "      <td>None</td>\n",
       "      <td>None</td>\n",
       "      <td>None</td>\n",
       "      <td>None</td>\n",
       "      <td>None</td>\n",
       "      <td>None</td>\n",
       "      <td>None</td>\n",
       "      <td>None</td>\n",
       "      <td>None</td>\n",
       "    </tr>\n",
       "  </tbody>\n",
       "</table>\n",
       "<p>3 rows × 590 columns</p>\n",
       "</div>"
      ],
      "text/plain": [
       "  key_mode      0        1      2       3       4        5        6       7  \\\n",
       "0    MAJOR  I:MAJ    V:MAJ  I:MAJ   V:MAJ   I:MAJ    V:MAJ    I:MAJ   V:MAJ   \n",
       "1    MAJOR  I:MAJ  VII:DIM  V:MAJ   I:MAJ  IV:MAJ  VII:DIM    I:MAJ  IV:MAJ   \n",
       "2    MAJOR  I:MAJ   IV:MAJ  V:MAJ  IV:MAJ   V:MAJ    I:MAJ  III:MIN  VI:MIN   \n",
       "\n",
       "        8  ...   579   580   581   582   583   584   585   586   587   588  \n",
       "0  IV:MAJ  ...  None  None  None  None  None  None  None  None  None  None  \n",
       "1  IV:MIN  ...  None  None  None  None  None  None  None  None  None  None  \n",
       "2   V:MAJ  ...  None  None  None  None  None  None  None  None  None  None  \n",
       "\n",
       "[3 rows x 590 columns]"
      ]
     },
     "execution_count": 17,
     "metadata": {},
     "output_type": "execute_result"
    }
   ],
   "source": [
    "#exemple : bach data\n",
    "chord_bach = load_chord_data('Bach.csv')\n",
    "chord_bach.head(3)"
   ]
  },
  {
   "cell_type": "markdown",
   "metadata": {},
   "source": [
    "We have some 'None' values because each line may contain a different amount of chords."
   ]
  },
  {
   "cell_type": "code",
   "execution_count": 18,
   "metadata": {},
   "outputs": [
    {
     "data": {
      "text/html": [
       "<div>\n",
       "<style scoped>\n",
       "    .dataframe tbody tr th:only-of-type {\n",
       "        vertical-align: middle;\n",
       "    }\n",
       "\n",
       "    .dataframe tbody tr th {\n",
       "        vertical-align: top;\n",
       "    }\n",
       "\n",
       "    .dataframe thead th {\n",
       "        text-align: right;\n",
       "    }\n",
       "</style>\n",
       "<table border=\"1\" class=\"dataframe\">\n",
       "  <thead>\n",
       "    <tr style=\"text-align: right;\">\n",
       "      <th></th>\n",
       "      <th>key_mode</th>\n",
       "      <th>0</th>\n",
       "      <th>1</th>\n",
       "      <th>2</th>\n",
       "      <th>3</th>\n",
       "      <th>4</th>\n",
       "      <th>5</th>\n",
       "      <th>6</th>\n",
       "      <th>7</th>\n",
       "      <th>8</th>\n",
       "      <th>...</th>\n",
       "      <th>146</th>\n",
       "      <th>147</th>\n",
       "      <th>148</th>\n",
       "      <th>149</th>\n",
       "      <th>150</th>\n",
       "      <th>151</th>\n",
       "      <th>152</th>\n",
       "      <th>153</th>\n",
       "      <th>154</th>\n",
       "      <th>155</th>\n",
       "    </tr>\n",
       "  </thead>\n",
       "  <tbody>\n",
       "    <tr>\n",
       "      <th>0</th>\n",
       "      <td>MINOR</td>\n",
       "      <td>I:MIN</td>\n",
       "      <td>V:MAJ</td>\n",
       "      <td>I:MIN</td>\n",
       "      <td>V:MIN</td>\n",
       "      <td>VI:MAJ</td>\n",
       "      <td>III:MAJ</td>\n",
       "      <td>IV:MIN</td>\n",
       "      <td>II:DIM</td>\n",
       "      <td>V:MAJ</td>\n",
       "      <td>...</td>\n",
       "      <td>None</td>\n",
       "      <td>None</td>\n",
       "      <td>None</td>\n",
       "      <td>None</td>\n",
       "      <td>None</td>\n",
       "      <td>None</td>\n",
       "      <td>None</td>\n",
       "      <td>None</td>\n",
       "      <td>None</td>\n",
       "      <td>None</td>\n",
       "    </tr>\n",
       "    <tr>\n",
       "      <th>1</th>\n",
       "      <td>MINOR</td>\n",
       "      <td>V:MAJ</td>\n",
       "      <td>I:MIN</td>\n",
       "      <td>IV:MAJ</td>\n",
       "      <td>VII:MAJ</td>\n",
       "      <td>III:MAJ</td>\n",
       "      <td>#VI:MAJ</td>\n",
       "      <td>II:MAJ</td>\n",
       "      <td>V:MAJ</td>\n",
       "      <td>I:MIN</td>\n",
       "      <td>...</td>\n",
       "      <td>None</td>\n",
       "      <td>None</td>\n",
       "      <td>None</td>\n",
       "      <td>None</td>\n",
       "      <td>None</td>\n",
       "      <td>None</td>\n",
       "      <td>None</td>\n",
       "      <td>None</td>\n",
       "      <td>None</td>\n",
       "      <td>None</td>\n",
       "    </tr>\n",
       "    <tr>\n",
       "      <th>2</th>\n",
       "      <td>MAJOR</td>\n",
       "      <td>I:MAJ</td>\n",
       "      <td>V:MAJ</td>\n",
       "      <td>I:MAJ</td>\n",
       "      <td>IV:MAJ</td>\n",
       "      <td>I:MAJ</td>\n",
       "      <td>IV:MAJ</td>\n",
       "      <td>I:MAJ</td>\n",
       "      <td>IV:MIN</td>\n",
       "      <td>I:MAJ</td>\n",
       "      <td>...</td>\n",
       "      <td>None</td>\n",
       "      <td>None</td>\n",
       "      <td>None</td>\n",
       "      <td>None</td>\n",
       "      <td>None</td>\n",
       "      <td>None</td>\n",
       "      <td>None</td>\n",
       "      <td>None</td>\n",
       "      <td>None</td>\n",
       "      <td>None</td>\n",
       "    </tr>\n",
       "    <tr>\n",
       "      <th>3</th>\n",
       "      <td>MINOR</td>\n",
       "      <td>IV:MIN</td>\n",
       "      <td>#VII:DIM</td>\n",
       "      <td>IV:MIN</td>\n",
       "      <td>#IV:MAJ</td>\n",
       "      <td>V:MAJ</td>\n",
       "      <td>#IV:DIM</td>\n",
       "      <td>V:MAJ</td>\n",
       "      <td>I:MIN</td>\n",
       "      <td>V:MAJ</td>\n",
       "      <td>...</td>\n",
       "      <td>None</td>\n",
       "      <td>None</td>\n",
       "      <td>None</td>\n",
       "      <td>None</td>\n",
       "      <td>None</td>\n",
       "      <td>None</td>\n",
       "      <td>None</td>\n",
       "      <td>None</td>\n",
       "      <td>None</td>\n",
       "      <td>None</td>\n",
       "    </tr>\n",
       "    <tr>\n",
       "      <th>4</th>\n",
       "      <td>MAJOR</td>\n",
       "      <td>II:MIN</td>\n",
       "      <td>I:MAJ</td>\n",
       "      <td>V:MAJ</td>\n",
       "      <td>#V:DIM</td>\n",
       "      <td>VI:MIN</td>\n",
       "      <td>II:DIM</td>\n",
       "      <td>VI:MIN</td>\n",
       "      <td>III:MAJ</td>\n",
       "      <td>VI:MIN</td>\n",
       "      <td>...</td>\n",
       "      <td>None</td>\n",
       "      <td>None</td>\n",
       "      <td>None</td>\n",
       "      <td>None</td>\n",
       "      <td>None</td>\n",
       "      <td>None</td>\n",
       "      <td>None</td>\n",
       "      <td>None</td>\n",
       "      <td>None</td>\n",
       "      <td>None</td>\n",
       "    </tr>\n",
       "  </tbody>\n",
       "</table>\n",
       "<p>5 rows × 157 columns</p>\n",
       "</div>"
      ],
      "text/plain": [
       "  key_mode       0         1       2        3        4        5       6  \\\n",
       "0    MINOR   I:MIN     V:MAJ   I:MIN    V:MIN   VI:MAJ  III:MAJ  IV:MIN   \n",
       "1    MINOR   V:MAJ     I:MIN  IV:MAJ  VII:MAJ  III:MAJ  #VI:MAJ  II:MAJ   \n",
       "2    MAJOR   I:MAJ     V:MAJ   I:MAJ   IV:MAJ    I:MAJ   IV:MAJ   I:MAJ   \n",
       "3    MINOR  IV:MIN  #VII:DIM  IV:MIN  #IV:MAJ    V:MAJ  #IV:DIM   V:MAJ   \n",
       "4    MAJOR  II:MIN     I:MAJ   V:MAJ   #V:DIM   VI:MIN   II:DIM  VI:MIN   \n",
       "\n",
       "         7       8  ...   146   147   148   149   150   151   152   153   154  \\\n",
       "0   II:DIM   V:MAJ  ...  None  None  None  None  None  None  None  None  None   \n",
       "1    V:MAJ   I:MIN  ...  None  None  None  None  None  None  None  None  None   \n",
       "2   IV:MIN   I:MAJ  ...  None  None  None  None  None  None  None  None  None   \n",
       "3    I:MIN   V:MAJ  ...  None  None  None  None  None  None  None  None  None   \n",
       "4  III:MAJ  VI:MIN  ...  None  None  None  None  None  None  None  None  None   \n",
       "\n",
       "    155  \n",
       "0  None  \n",
       "1  None  \n",
       "2  None  \n",
       "3  None  \n",
       "4  None  \n",
       "\n",
       "[5 rows x 157 columns]"
      ]
     },
     "execution_count": 18,
     "metadata": {},
     "output_type": "execute_result"
    }
   ],
   "source": [
    "#Let's test with Chopin\n",
    "chopin_bach = load_chord_data('Chopin.csv')\n",
    "chopin_bach.head()"
   ]
  },
  {
   "cell_type": "markdown",
   "metadata": {},
   "source": [
    "**Import the key data**"
   ]
  },
  {
   "cell_type": "code",
   "execution_count": 19,
   "metadata": {},
   "outputs": [],
   "source": [
    "def load_key_data(file):\n",
    "    '''\n",
    "    Function that returns the csv file as a dataframe for one composer\n",
    "    \n",
    "    - Input : file name (example : 'Bach.csv')'''\n",
    "    #We use sep='\\n' to be able to first separate each line, but we'll have just one column\n",
    "    data = pd.read_csv(key_folder + file, sep='\\n' ,header= None, error_bad_lines = False)\n",
    "    \n",
    "    #same as before : we add columns for the case when there is more than one symbol\n",
    "    data = data[0].str.split(',', expand=True)\n",
    "    \n",
    "    #If we want to remove lines with only one symbol : uncomment the following line\n",
    "    #data = data.drop(data[data[1].apply(lambda x: x is None)].index) #drop all lines for which the value of the second column is 'None'\n",
    "    return data"
   ]
  },
  {
   "cell_type": "code",
   "execution_count": 20,
   "metadata": {},
   "outputs": [
    {
     "data": {
      "text/html": [
       "<div>\n",
       "<style scoped>\n",
       "    .dataframe tbody tr th:only-of-type {\n",
       "        vertical-align: middle;\n",
       "    }\n",
       "\n",
       "    .dataframe tbody tr th {\n",
       "        vertical-align: top;\n",
       "    }\n",
       "\n",
       "    .dataframe thead th {\n",
       "        text-align: right;\n",
       "    }\n",
       "</style>\n",
       "<table border=\"1\" class=\"dataframe\">\n",
       "  <thead>\n",
       "    <tr style=\"text-align: right;\">\n",
       "      <th></th>\n",
       "      <th>0</th>\n",
       "      <th>1</th>\n",
       "      <th>2</th>\n",
       "      <th>3</th>\n",
       "      <th>4</th>\n",
       "      <th>5</th>\n",
       "      <th>6</th>\n",
       "      <th>7</th>\n",
       "      <th>8</th>\n",
       "      <th>9</th>\n",
       "      <th>10</th>\n",
       "      <th>11</th>\n",
       "      <th>12</th>\n",
       "    </tr>\n",
       "  </thead>\n",
       "  <tbody>\n",
       "    <tr>\n",
       "      <th>0</th>\n",
       "      <td>I:MAJOR</td>\n",
       "      <td>None</td>\n",
       "      <td>None</td>\n",
       "      <td>None</td>\n",
       "      <td>None</td>\n",
       "      <td>None</td>\n",
       "      <td>None</td>\n",
       "      <td>None</td>\n",
       "      <td>None</td>\n",
       "      <td>None</td>\n",
       "      <td>None</td>\n",
       "      <td>None</td>\n",
       "      <td>None</td>\n",
       "    </tr>\n",
       "    <tr>\n",
       "      <th>1</th>\n",
       "      <td>I:MAJOR</td>\n",
       "      <td>None</td>\n",
       "      <td>None</td>\n",
       "      <td>None</td>\n",
       "      <td>None</td>\n",
       "      <td>None</td>\n",
       "      <td>None</td>\n",
       "      <td>None</td>\n",
       "      <td>None</td>\n",
       "      <td>None</td>\n",
       "      <td>None</td>\n",
       "      <td>None</td>\n",
       "      <td>None</td>\n",
       "    </tr>\n",
       "    <tr>\n",
       "      <th>2</th>\n",
       "      <td>I:MAJOR</td>\n",
       "      <td>None</td>\n",
       "      <td>None</td>\n",
       "      <td>None</td>\n",
       "      <td>None</td>\n",
       "      <td>None</td>\n",
       "      <td>None</td>\n",
       "      <td>None</td>\n",
       "      <td>None</td>\n",
       "      <td>None</td>\n",
       "      <td>None</td>\n",
       "      <td>None</td>\n",
       "      <td>None</td>\n",
       "    </tr>\n",
       "    <tr>\n",
       "      <th>3</th>\n",
       "      <td>I:MAJOR</td>\n",
       "      <td>None</td>\n",
       "      <td>None</td>\n",
       "      <td>None</td>\n",
       "      <td>None</td>\n",
       "      <td>None</td>\n",
       "      <td>None</td>\n",
       "      <td>None</td>\n",
       "      <td>None</td>\n",
       "      <td>None</td>\n",
       "      <td>None</td>\n",
       "      <td>None</td>\n",
       "      <td>None</td>\n",
       "    </tr>\n",
       "    <tr>\n",
       "      <th>4</th>\n",
       "      <td>I:MAJOR</td>\n",
       "      <td>None</td>\n",
       "      <td>None</td>\n",
       "      <td>None</td>\n",
       "      <td>None</td>\n",
       "      <td>None</td>\n",
       "      <td>None</td>\n",
       "      <td>None</td>\n",
       "      <td>None</td>\n",
       "      <td>None</td>\n",
       "      <td>None</td>\n",
       "      <td>None</td>\n",
       "      <td>None</td>\n",
       "    </tr>\n",
       "  </tbody>\n",
       "</table>\n",
       "</div>"
      ],
      "text/plain": [
       "         0     1     2     3     4     5     6     7     8     9    10    11  \\\n",
       "0  I:MAJOR  None  None  None  None  None  None  None  None  None  None  None   \n",
       "1  I:MAJOR  None  None  None  None  None  None  None  None  None  None  None   \n",
       "2  I:MAJOR  None  None  None  None  None  None  None  None  None  None  None   \n",
       "3  I:MAJOR  None  None  None  None  None  None  None  None  None  None  None   \n",
       "4  I:MAJOR  None  None  None  None  None  None  None  None  None  None  None   \n",
       "\n",
       "     12  \n",
       "0  None  \n",
       "1  None  \n",
       "2  None  \n",
       "3  None  \n",
       "4  None  "
      ]
     },
     "execution_count": 20,
     "metadata": {},
     "output_type": "execute_result"
    }
   ],
   "source": [
    "key_bach = load_key_data('Bach.csv')\n",
    "key_bach.head()"
   ]
  },
  {
   "cell_type": "markdown",
   "metadata": {},
   "source": [
    "# Word2Vec\n",
    "\n",
    "To use word2vec, we need a list of list, so we create a new function that don't separate chords, so that we can do it more easily later"
   ]
  },
  {
   "cell_type": "code",
   "execution_count": 5,
   "metadata": {},
   "outputs": [
    {
     "data": {
      "text/html": [
       "<div>\n",
       "<style scoped>\n",
       "    .dataframe tbody tr th:only-of-type {\n",
       "        vertical-align: middle;\n",
       "    }\n",
       "\n",
       "    .dataframe tbody tr th {\n",
       "        vertical-align: top;\n",
       "    }\n",
       "\n",
       "    .dataframe thead th {\n",
       "        text-align: right;\n",
       "    }\n",
       "</style>\n",
       "<table border=\"1\" class=\"dataframe\">\n",
       "  <thead>\n",
       "    <tr style=\"text-align: right;\">\n",
       "      <th></th>\n",
       "      <th>0</th>\n",
       "      <th>1</th>\n",
       "    </tr>\n",
       "  </thead>\n",
       "  <tbody>\n",
       "    <tr>\n",
       "      <th>0</th>\n",
       "      <td>MAJOR</td>\n",
       "      <td>I:MAJ,V:MAJ,I:MAJ,V:MAJ,I:MAJ,V:MAJ,I:MAJ,V:MA...</td>\n",
       "    </tr>\n",
       "    <tr>\n",
       "      <th>1</th>\n",
       "      <td>MAJOR</td>\n",
       "      <td>I:MAJ,VII:DIM,V:MAJ,I:MAJ,IV:MAJ,VII:DIM,I:MAJ...</td>\n",
       "    </tr>\n",
       "    <tr>\n",
       "      <th>2</th>\n",
       "      <td>MAJOR</td>\n",
       "      <td>I:MAJ,IV:MAJ,V:MAJ,IV:MAJ,V:MAJ,I:MAJ,III:MIN,...</td>\n",
       "    </tr>\n",
       "    <tr>\n",
       "      <th>3</th>\n",
       "      <td>MAJOR</td>\n",
       "      <td>I:MAJ,II:MIN,I:MAJ,IV:MAJ,I:MAJ,II:MIN,V:MAJ,I...</td>\n",
       "    </tr>\n",
       "    <tr>\n",
       "      <th>4</th>\n",
       "      <td>MAJOR</td>\n",
       "      <td>I:MAJ,IV:MAJ,II:MIN,I:MAJ,IV:MAJ,I:MAJ,II:MIN,...</td>\n",
       "    </tr>\n",
       "  </tbody>\n",
       "</table>\n",
       "</div>"
      ],
      "text/plain": [
       "       0                                                  1\n",
       "0  MAJOR  I:MAJ,V:MAJ,I:MAJ,V:MAJ,I:MAJ,V:MAJ,I:MAJ,V:MA...\n",
       "1  MAJOR  I:MAJ,VII:DIM,V:MAJ,I:MAJ,IV:MAJ,VII:DIM,I:MAJ...\n",
       "2  MAJOR  I:MAJ,IV:MAJ,V:MAJ,IV:MAJ,V:MAJ,I:MAJ,III:MIN,...\n",
       "3  MAJOR  I:MAJ,II:MIN,I:MAJ,IV:MAJ,I:MAJ,II:MIN,V:MAJ,I...\n",
       "4  MAJOR  I:MAJ,IV:MAJ,II:MIN,I:MAJ,IV:MAJ,I:MAJ,II:MIN,..."
      ]
     },
     "execution_count": 5,
     "metadata": {},
     "output_type": "execute_result"
    }
   ],
   "source": [
    "#e create a second function that don't separate the different chords into multiple columns\n",
    "def load_chord_data2(file):\n",
    "    data = pd.read_csv(chord_folder + file, sep=';' ,header= None, error_bad_lines = False)\n",
    "    return data\n",
    "    \n",
    "chord_bach2 = load_chord_data2('Bach.csv')\n",
    "chord_bach2.head()"
   ]
  },
  {
   "cell_type": "code",
   "execution_count": 6,
   "metadata": {},
   "outputs": [],
   "source": [
    "#We filter this dataset to only keep MAJOR/MINOR mode\n",
    "chord_bach2_maj = chord_bach2[chord_bach2[0]=='MAJOR']\n",
    "chord_bach2_min = chord_bach2[chord_bach2[0]=='MINOR']"
   ]
  },
  {
   "cell_type": "markdown",
   "metadata": {},
   "source": [
    "Now we create a new function that returns a list of list : for each sentence, we store the chords in a list."
   ]
  },
  {
   "cell_type": "code",
   "execution_count": 7,
   "metadata": {},
   "outputs": [],
   "source": [
    "#function that returns the sentences :\n",
    "def sentences_chord(dataframe):\n",
    "    return [row.split(',') for row in dataframe[1]]\n",
    "\n",
    "\n",
    "sentences_bach_maj = sentences_chord(chord_bach2_maj)\n",
    "sentences_bach_min = sentences_chord(chord_bach2_min)"
   ]
  },
  {
   "cell_type": "code",
   "execution_count": 8,
   "metadata": {},
   "outputs": [
    {
     "data": {
      "text/plain": [
       "['V:MAJ', 'I:MAJ', 'V:MAJ', 'I:MAJ']"
      ]
     },
     "execution_count": 8,
     "metadata": {},
     "output_type": "execute_result"
    }
   ],
   "source": [
    "#let's see the first 5 chords of the first sentence\n",
    "sentences_bach_maj[0][1:5] #The first chord gets removed : try to fix it "
   ]
  },
  {
   "cell_type": "markdown",
   "metadata": {},
   "source": [
    "Word2vec with gensim :"
   ]
  },
  {
   "cell_type": "code",
   "execution_count": 9,
   "metadata": {},
   "outputs": [],
   "source": [
    "from gensim.models import Word2Vec\n",
    "\n",
    "#parameters of th function (can be modified)\n",
    "min_count = 5 #ignore words with less frequency than this\n",
    "size = 100\n",
    "#size = chord_voc_full.shape[0] #Total number of chords\n",
    "window = 3 #Neighborhood of the focus word to study\n",
    "sg = 1 #0 for CBOW, 1 for skip-gram\n",
    "\n",
    "model_maj = Word2Vec(sentences_bach_maj, min_count = min_count, size =size, window = window, sg=sg)\n",
    "model_min = Word2Vec(sentences_bach_min, min_count = min_count, size =size, window = window, sg=sg)"
   ]
  },
  {
   "cell_type": "code",
   "execution_count": 10,
   "metadata": {},
   "outputs": [
    {
     "name": "stdout",
     "output_type": "stream",
     "text": [
      "[-0.14155035 -0.04083005  0.12636486  0.16107765 -0.12312824  0.06544929\n",
      "  0.05570609  0.12215862  0.06191672  0.05275523  0.07618526 -0.14025664\n",
      "  0.08174392 -0.14127605  0.00120438  0.02644107  0.03496553  0.00786183\n",
      " -0.03994393  0.16790779 -0.13297892  0.03167564  0.14422467  0.04282058\n",
      "  0.24933511  0.10100731 -0.08185089  0.05761434 -0.08955641 -0.1746354\n",
      " -0.11250129  0.10450884  0.21459168  0.10826922  0.05678935 -0.09119288\n",
      "  0.03676422 -0.13050893 -0.00722608  0.13460065  0.02068828 -0.12422097\n",
      "  0.05573079 -0.00358786  0.05700204 -0.04858166 -0.13072185 -0.25043565\n",
      " -0.02313892  0.1851643   0.08853421 -0.00414077 -0.0469538  -0.24004224\n",
      " -0.02031075 -0.12016739 -0.14987099 -0.06802485 -0.04793582  0.11095928\n",
      " -0.04633269  0.17900747 -0.06631026 -0.04322644 -0.10536343  0.06760615\n",
      "  0.09747323  0.08995993 -0.01614085  0.05914672 -0.03880073 -0.04763678\n",
      "  0.08196572 -0.05428922 -0.02308274 -0.1481497  -0.05323372  0.15610725\n",
      "  0.08543644 -0.00162484 -0.04704613  0.11113109  0.06457025  0.06118007\n",
      "  0.1057032   0.00466766 -0.03766465  0.20275941  0.1218572   0.05868465\n",
      " -0.05223925 -0.04029804 -0.00613762  0.03046981  0.04234339 -0.23724896\n",
      " -0.21834123 -0.1628743   0.03056655  0.11776579]\n"
     ]
    }
   ],
   "source": [
    "print(model_maj.wv['I:MAJ'])"
   ]
  },
  {
   "cell_type": "code",
   "execution_count": 11,
   "metadata": {},
   "outputs": [
    {
     "name": "stdout",
     "output_type": "stream",
     "text": [
      "<class 'numpy.ndarray'>\n"
     ]
    }
   ],
   "source": [
    "print(type(model_maj.wv['I:MAJ'])) #coordinates of the chord in the embedding space"
   ]
  },
  {
   "cell_type": "code",
   "execution_count": 15,
   "metadata": {},
   "outputs": [
    {
     "data": {
      "text/plain": [
       "<gensim.models.keyedvectors.Word2VecKeyedVectors at 0x21e9bd1f8e0>"
      ]
     },
     "execution_count": 15,
     "metadata": {},
     "output_type": "execute_result"
    }
   ],
   "source": [
    "model_maj.wv"
   ]
  },
  {
   "cell_type": "code",
   "execution_count": 60,
   "metadata": {},
   "outputs": [
    {
     "data": {
      "text/plain": [
       "{'I:MAJ': <gensim.models.keyedvectors.Vocab at 0x268358f84c0>,\n",
       " 'V:MAJ': <gensim.models.keyedvectors.Vocab at 0x268358f8a90>,\n",
       " 'IV:MAJ': <gensim.models.keyedvectors.Vocab at 0x268358f8f70>,\n",
       " '#IV:DIM': <gensim.models.keyedvectors.Vocab at 0x268358f8280>,\n",
       " 'II:MAJ': <gensim.models.keyedvectors.Vocab at 0x268358f8340>,\n",
       " 'VI:MIN': <gensim.models.keyedvectors.Vocab at 0x268358f8b50>,\n",
       " 'bVII:MAJ': <gensim.models.keyedvectors.Vocab at 0x268358f82e0>,\n",
       " 'VII:DIM': <gensim.models.keyedvectors.Vocab at 0x26835955460>,\n",
       " 'III:MAJ': <gensim.models.keyedvectors.Vocab at 0x26835955400>,\n",
       " 'VI:MAJ': <gensim.models.keyedvectors.Vocab at 0x26835955a60>,\n",
       " 'II:MIN': <gensim.models.keyedvectors.Vocab at 0x26835955e20>,\n",
       " '#I:DIM': <gensim.models.keyedvectors.Vocab at 0x268359553a0>,\n",
       " 'V:MIN': <gensim.models.keyedvectors.Vocab at 0x268359554c0>,\n",
       " 'III:DIM': <gensim.models.keyedvectors.Vocab at 0x268359553d0>,\n",
       " 'IV:MIN': <gensim.models.keyedvectors.Vocab at 0x26835955640>,\n",
       " '#V:DIM': <gensim.models.keyedvectors.Vocab at 0x26835955a00>,\n",
       " 'III:MIN': <gensim.models.keyedvectors.Vocab at 0x26835955c10>,\n",
       " 'I:MIN': <gensim.models.keyedvectors.Vocab at 0x26835955c40>,\n",
       " 'VII:MIN': <gensim.models.keyedvectors.Vocab at 0x26835954760>,\n",
       " 'bVI:MAJ': <gensim.models.keyedvectors.Vocab at 0x26835954340>}"
      ]
     },
     "execution_count": 60,
     "metadata": {},
     "output_type": "execute_result"
    }
   ],
   "source": [
    "model_maj.wv.vocab #each word"
   ]
  },
  {
   "cell_type": "code",
   "execution_count": 61,
   "metadata": {},
   "outputs": [
    {
     "name": "stdout",
     "output_type": "stream",
     "text": [
      "Similarity between I:MAJ and II:MAJ :  0.998659\n",
      "Similarity between I:MAJ and V:MIN :  0.99865806\n"
     ]
    }
   ],
   "source": [
    "print('Similarity between I:MAJ and II:MAJ : ',model_maj.wv.similarity('I:MAJ', 'II:MAJ'))\n",
    "print('Similarity between I:MAJ and V:MIN : ',model_maj.wv.similarity('I:MAJ', 'V:MIN'))"
   ]
  },
  {
   "cell_type": "code",
   "execution_count": 62,
   "metadata": {},
   "outputs": [
    {
     "data": {
      "text/plain": [
       "[('VII:DIM', 0.9991443753242493),\n",
       " ('bVII:MAJ', 0.9990828633308411),\n",
       " ('II:MIN', 0.9990499019622803),\n",
       " ('V:MAJ', 0.9990216493606567),\n",
       " ('IV:MAJ', 0.999001145362854),\n",
       " ('IV:MIN', 0.9989161491394043),\n",
       " ('#IV:DIM', 0.9988713264465332),\n",
       " ('#V:DIM', 0.9988535046577454),\n",
       " ('III:DIM', 0.9987939596176147),\n",
       " ('VI:MIN', 0.998749315738678)]"
      ]
     },
     "execution_count": 62,
     "metadata": {},
     "output_type": "execute_result"
    }
   ],
   "source": [
    "model_maj.wv.most_similar('I:MAJ')"
   ]
  },
  {
   "cell_type": "markdown",
   "metadata": {},
   "source": [
    "# PCA and visualization"
   ]
  },
  {
   "cell_type": "markdown",
   "metadata": {},
   "source": [
    "Here the embedding space has a big size. To diminish the dimensions and be able to visualize the embedding space, we need to reduce the dimension of the embedding space to 2 dimensions. An idea could be to use PCA."
   ]
  },
  {
   "cell_type": "markdown",
   "metadata": {},
   "source": [
    "We create an array containing the coordinates in the embedding space for all chord. This array will have a size (Number of chords x size of the embedding space)"
   ]
  },
  {
   "cell_type": "code",
   "execution_count": 63,
   "metadata": {},
   "outputs": [
    {
     "name": "stdout",
     "output_type": "stream",
     "text": [
      "(20, 100)\n"
     ]
    },
    {
     "data": {
      "text/plain": [
       "array([ 0.08663099,  0.0345431 , -0.00878697,  0.14452314,  0.02699038,\n",
       "        0.27081945, -0.1158635 ,  0.00202262, -0.10478506, -0.08799233,\n",
       "       -0.07398999, -0.08602018, -0.02563688, -0.07775081, -0.05236196,\n",
       "        0.00478673,  0.10206789,  0.10061674, -0.02098689,  0.14478377,\n",
       "        0.10560888, -0.10180828,  0.2497688 ,  0.09143316,  0.12328969,\n",
       "        0.1497101 , -0.23379341,  0.13165241,  0.05400691,  0.12344947,\n",
       "       -0.1316585 , -0.16786664,  0.03174724, -0.01095308, -0.03279   ,\n",
       "        0.18688898, -0.18165555,  0.0374872 , -0.02565962, -0.07704375,\n",
       "       -0.02633696,  0.19158394, -0.06641967,  0.22845095, -0.05491524,\n",
       "        0.06036051,  0.16600203, -0.1046528 , -0.09221797,  0.17971205,\n",
       "       -0.01992773,  0.11418049,  0.12107211, -0.09642864,  0.00477438,\n",
       "        0.12606397,  0.03817413, -0.08561487,  0.00704077,  0.02662313,\n",
       "       -0.12747887, -0.22822218,  0.00196173,  0.11015328, -0.05304155,\n",
       "       -0.05538272, -0.12597531,  0.21488003,  0.05843148,  0.0441754 ,\n",
       "       -0.11674654, -0.07099439, -0.03790701, -0.10262373, -0.06497027,\n",
       "       -0.14942092, -0.00184047,  0.1043735 , -0.15508624, -0.09254473,\n",
       "        0.09704996, -0.31059223,  0.02564788, -0.05937263, -0.04914858,\n",
       "        0.06767174,  0.05317107, -0.0321519 ,  0.08053412, -0.12878853,\n",
       "        0.01567063, -0.16289424,  0.20821876, -0.03167932, -0.00062381,\n",
       "       -0.08845027,  0.04992875,  0.00637501, -0.04254723, -0.02567595])"
      ]
     },
     "execution_count": 63,
     "metadata": {},
     "output_type": "execute_result"
    }
   ],
   "source": [
    "#creation of an array containing coordinates for in the embedding space for each chord\n",
    "\n",
    "nb_vocab_maj = len(model_maj.wv.vocab.keys()) #number of chords\n",
    "nb_vocab_min = len(model_min.wv.vocab.keys()) #number of chords\n",
    "coordinates_maj = np.ones((nb_vocab_maj, size)) #initialisation of the matrix containing major coordinates in the embedding space\n",
    "coordinates_min = np.ones((nb_vocab_min, size)) #initialisation of the matrix containing major coordinates in the embedding space\n",
    "\n",
    "#major coordinates\n",
    "for indx, chord in enumerate(model_maj.wv.vocab.keys()): #For each chord\n",
    "    coordinates_maj[indx,:] = model_maj.wv[chord] #we add the coordinates\n",
    "    \n",
    "#minor coordinates\n",
    "for indx, chord in enumerate(model_min.wv.vocab.keys()): #For each chord\n",
    "    coordinates_min[indx,:] = model_min.wv[chord] #we add the coordinates\n",
    "    \n",
    "print(coordinates_maj.shape)\n",
    "np.mean(coordinates_maj, axis = 0)"
   ]
  },
  {
   "cell_type": "code",
   "execution_count": 64,
   "metadata": {},
   "outputs": [
    {
     "data": {
      "text/plain": [
       "array([ 0.00000000e+00,  1.38777878e-18,  3.46944695e-19,  1.11022302e-17,\n",
       "        0.00000000e+00,  2.22044605e-17,  0.00000000e+00, -2.60208521e-19,\n",
       "       -5.55111512e-18,  2.77555756e-18,  2.77555756e-18,  2.77555756e-18,\n",
       "        0.00000000e+00,  0.00000000e+00,  1.38777878e-18, -1.30104261e-19,\n",
       "        2.77555756e-18, -5.55111512e-18,  6.93889390e-19,  5.55111512e-18,\n",
       "       -2.77555756e-18, -2.77555756e-18, -5.55111512e-18,  0.00000000e+00,\n",
       "        2.77555756e-18,  5.55111512e-18, -5.55111512e-18, -1.11022302e-17,\n",
       "       -2.77555756e-18,  5.55111512e-18, -1.11022302e-17,  0.00000000e+00,\n",
       "       -1.38777878e-18,  3.46944695e-19,  0.00000000e+00,  1.11022302e-17,\n",
       "       -5.55111512e-18, -1.38777878e-18,  0.00000000e+00,  5.55111512e-18,\n",
       "        6.93889390e-19,  5.55111512e-18,  2.77555756e-18, -5.55111512e-18,\n",
       "       -2.77555756e-18,  0.00000000e+00, -1.11022302e-17,  0.00000000e+00,\n",
       "        5.55111512e-18,  1.11022302e-17,  6.93889390e-19, -2.77555756e-18,\n",
       "        0.00000000e+00, -2.77555756e-18,  1.30104261e-19,  0.00000000e+00,\n",
       "        2.77555756e-18,  0.00000000e+00, -1.30104261e-19,  1.38777878e-18,\n",
       "       -5.55111512e-18,  0.00000000e+00,  1.30104261e-19, -2.77555756e-18,\n",
       "       -2.77555756e-18,  2.77555756e-18,  0.00000000e+00,  1.11022302e-17,\n",
       "        0.00000000e+00, -1.38777878e-18,  2.77555756e-18,  5.55111512e-18,\n",
       "        1.38777878e-18, -5.55111512e-18, -5.55111512e-18, -1.11022302e-17,\n",
       "        5.42101086e-20,  0.00000000e+00,  0.00000000e+00, -2.77555756e-18,\n",
       "        2.77555756e-18,  0.00000000e+00,  0.00000000e+00,  1.38777878e-18,\n",
       "       -2.77555756e-18, -2.77555756e-18, -2.77555756e-18, -1.38777878e-18,\n",
       "       -2.77555756e-18, -5.55111512e-18, -1.38777878e-18, -5.55111512e-18,\n",
       "        0.00000000e+00,  2.77555756e-18,  0.00000000e+00,  0.00000000e+00,\n",
       "        0.00000000e+00,  1.73472348e-19, -2.77555756e-18,  1.38777878e-18])"
      ]
     },
     "execution_count": 64,
     "metadata": {},
     "output_type": "execute_result"
    }
   ],
   "source": [
    "#We need to center this data before performing PCA :\n",
    "coordinates_maj = coordinates_maj - np.mean(coordinates_maj, axis=0)\n",
    "coordinates_min = coordinates_min - np.mean(coordinates_min, axis=0)\n",
    "np.mean(coordinates_maj, axis = 0)"
   ]
  },
  {
   "cell_type": "code",
   "execution_count": 65,
   "metadata": {},
   "outputs": [
    {
     "data": {
      "text/plain": [
       "(20, 2)"
      ]
     },
     "execution_count": 65,
     "metadata": {},
     "output_type": "execute_result"
    }
   ],
   "source": [
    "from sklearn.decomposition import PCA\n",
    "\n",
    "pca = PCA(n_components=2)\n",
    "\n",
    "ppal_components_maj = pca.fit_transform(coordinates_maj)\n",
    "ppal_components_min = pca.fit_transform(coordinates_min)\n",
    "ppal_components_maj.shape"
   ]
  },
  {
   "cell_type": "code",
   "execution_count": 73,
   "metadata": {},
   "outputs": [
    {
     "data": {
      "text/plain": [
       "array([-0.02252091,  0.00472994, -0.0088766 ,  0.01013444,  0.014699  ,\n",
       "        0.00531697, -0.01823331, -0.0155659 , -0.00220206,  0.00158084,\n",
       "       -0.01457013,  0.00706522, -0.00612561, -0.00357311, -0.00381766,\n",
       "       -0.00688787,  0.01007829,  0.00843583,  0.02305012,  0.01728251])"
      ]
     },
     "execution_count": 73,
     "metadata": {},
     "output_type": "execute_result"
    }
   ],
   "source": [
    "ppal_components_maj[:,1]"
   ]
  },
  {
   "cell_type": "code",
   "execution_count": 66,
   "metadata": {},
   "outputs": [
    {
     "data": {
      "text/html": [
       "<div>\n",
       "<style scoped>\n",
       "    .dataframe tbody tr th:only-of-type {\n",
       "        vertical-align: middle;\n",
       "    }\n",
       "\n",
       "    .dataframe tbody tr th {\n",
       "        vertical-align: top;\n",
       "    }\n",
       "\n",
       "    .dataframe thead th {\n",
       "        text-align: right;\n",
       "    }\n",
       "</style>\n",
       "<table border=\"1\" class=\"dataframe\">\n",
       "  <thead>\n",
       "    <tr style=\"text-align: right;\">\n",
       "      <th></th>\n",
       "      <th>component1</th>\n",
       "      <th>component2</th>\n",
       "    </tr>\n",
       "  </thead>\n",
       "  <tbody>\n",
       "    <tr>\n",
       "      <th>0</th>\n",
       "      <td>0.062984</td>\n",
       "      <td>-0.022521</td>\n",
       "    </tr>\n",
       "    <tr>\n",
       "      <th>1</th>\n",
       "      <td>0.042300</td>\n",
       "      <td>0.004730</td>\n",
       "    </tr>\n",
       "    <tr>\n",
       "      <th>2</th>\n",
       "      <td>0.055329</td>\n",
       "      <td>-0.008877</td>\n",
       "    </tr>\n",
       "    <tr>\n",
       "      <th>3</th>\n",
       "      <td>0.008128</td>\n",
       "      <td>0.010134</td>\n",
       "    </tr>\n",
       "    <tr>\n",
       "      <th>4</th>\n",
       "      <td>-0.056130</td>\n",
       "      <td>0.014699</td>\n",
       "    </tr>\n",
       "  </tbody>\n",
       "</table>\n",
       "</div>"
      ],
      "text/plain": [
       "   component1  component2\n",
       "0    0.062984   -0.022521\n",
       "1    0.042300    0.004730\n",
       "2    0.055329   -0.008877\n",
       "3    0.008128    0.010134\n",
       "4   -0.056130    0.014699"
      ]
     },
     "execution_count": 66,
     "metadata": {},
     "output_type": "execute_result"
    }
   ],
   "source": [
    "df_maj = pd.DataFrame(data=ppal_components_maj, columns=['component1', 'component2'])\n",
    "df_min = pd.DataFrame(data=ppal_components_min, columns=['component1', 'component2'])\n",
    "df_maj.head()"
   ]
  },
  {
   "cell_type": "code",
   "execution_count": 69,
   "metadata": {},
   "outputs": [
    {
     "data": {
      "image/png": "[encoded data removed]",
      "text/plain": [
       "<Figure size 720x360 with 1 Axes>"
      ]
     },
     "metadata": {
      "needs_background": "light"
     },
     "output_type": "display_data"
    }
   ],
   "source": [
    "#Visualization\n",
    "labels_maj = [chord for chord in model_maj.wv.vocab.keys()]\n",
    "labels_min = [chord for chord in model_min.wv.vocab.keys()]\n",
    "\n",
    "component1_maj = df_maj['component1'].values\n",
    "component2_maj = df_maj['component2'].values\n",
    "\n",
    "component1_min = df_min['component1'].values\n",
    "component2_min = df_min['component2'].values\n",
    "\n",
    "plt.figure(figsize=(10,5))\n",
    "plt.scatter(component1_maj, component2_maj, color = 'green', label ='Major')\n",
    "plt.scatter(component1_min, component2_min, color = 'blue', label='Minor')\n",
    "plt.xlabel('component 1 of PCA')\n",
    "plt.ylabel('component 2 of PCA')\n",
    "plt.title('Chords in the embedding space')\n",
    "plt.legend()\n",
    "\n",
    "for i, chord in enumerate(labels_maj):\n",
    "    plt.annotate(chord, (component1_maj[i], component2_maj[i]), color='green')\n",
    "for i, chord in enumerate(labels_min):\n",
    "    plt.annotate(chord, (component1_min[i], component2_min[i]), color='blue')"
   ]
  },
  {
   "cell_type": "markdown",
   "metadata": {},
   "source": [
    "For exemple we see that the closer chord to 'I:MAJ' is 'VII:DIM' for the major mode, so it's the same result we had with 'model_maj.most_similarity('I:MAJ')' : Good news, it means PCA works well !!"
   ]
  },
  {
   "cell_type": "code",
   "execution_count": null,
   "metadata": {},
   "outputs": [],
   "source": []
  }
 ],
 "metadata": {
  "kernelspec": {
   "display_name": "Python 3",
   "language": "python",
   "name": "python3"
  },
  "language_info": {
   "codemirror_mode": {
    "name": "ipython",
    "version": 3
   },
   "file_extension": ".py",
   "mimetype": "text/x-python",
   "name": "python",
   "nbconvert_exporter": "python",
   "pygments_lexer": "ipython3",
   "version": "3.8.3"
  }
 },
 "nbformat": 4,
 "nbformat_minor": 4
}
